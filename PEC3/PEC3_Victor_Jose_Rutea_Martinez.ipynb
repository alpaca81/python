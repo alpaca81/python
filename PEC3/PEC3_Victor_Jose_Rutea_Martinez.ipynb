{
  "cells": [
    {
      "cell_type": "markdown",
      "metadata": {
        "id": "6rZ_miJ8FE6_"
      },
      "source": [
        "<div style=\"width: 100%; clear: both;\">\n",
        "    <div style=\"float: left; width: 50%;\">\n",
        "       <img src=\"https://www.uoc.edu/portal/_resources/common/imatges/marca_UOC/llibre-estil/logo-UOC-2linies.png\", align=\"left\">\n",
        "    </div>\n",
        "</div>\n",
        "\n",
        "<div style=\"float: right; width: 50%;\">\n",
        "    <p style=\"margin: 0; padding-top: 22px; text-align:right;\">22.401 · Fonaments de Programació</p>\n",
        "    <p style=\"margin: 0; text-align:right;\">Grau en Ciència de Dades Aplicada</p>\n",
        "    <p style=\"margin: 0; text-align:right; padding-button: 100px;\">Estudis d'Informàtica, Multimèdia i Telecomunicació</p>\n",
        "</div>\n",
        "</div>\n",
        "<div style=\"width: 100%; clear: both;\">\n",
        "<div style=\"width:100%;\">&nbsp;</div>"
      ]
    },
    {
      "cell_type": "markdown",
      "metadata": {
        "id": "Nya-pEqRFE7W"
      },
      "source": [
        "Fundamentos de Programación\n",
        "============================\n",
        "\n",
        "PAC 3 - Enunciado\n",
        "-----------------------------------------------------\n",
        "\n",
        "En este Notebook se encontraréis el conjunto de actividades evaluables como PEC de la asignatura. Veréis que cada una de ellas tiene asociada una puntuación, que indica el peso que tiene la actividad sobre la nota final de la PEC. Adicionalmente, hay un ejercicio opcional, que no tiene puntuación dentro de la PEC, pero que se valora al final del semestre de cara a conceder las matrículas de honor y redondear las notas finales. Podréis sacar la máxima nota de la PAC sin necesidad de hacer este ejercicio. El objetivo de este ejercicio es que sirva como pequeño reto para los estudiantes que quieran profundizar en el contenido de la asignatura.\n",
        "\n",
        "Veréis que todas las actividades de la PEC tienen una etiqueta, que indica los recursos necesarios para llevarla a cabo. Hay tres posibles etiquetas:\n",
        "\n",
        "* <span style=\"font-family: Courier New; background-color: #82b74b; color: #000000; padding: 3px; \">NM</span> **Sólo materiales**: las herramientas necesarias para realizar la actividad se pueden encontrar en los materiales de la asignatura.\n",
        "\n",
        "* <span style = \"font-family: Courier New; background-color: #ffcc5c; color: #000000; padding: 3px; \">EG</span> **Consulta externa guiada**: la actividad puede requerir hacer uso de herramientas que no se encuentran en los materiales de la asignatura, pero el enunciado contiene indicaciones de dónde o cómo encontrar la información adicional necesaria para resolver la actividad.\n",
        "\n",
        "* <span style = \"font-family: Courier New; background-color: #f2ae72; color: #000000; padding: 3px;\">EI</span> **Consulta externa independiente**: la actividad puede requerir hacer uso de herramientas que no se encuentran en los materiales de la asignatura, y el enunciado puede no incluir la descripción de dónde o cómo encontrar esta información adicional. Será necesario que el estudiante busque esta información utilizando los recursos que se han explicado en la asignatura.\n",
        "\n",
        "Es importante notar que estas etiquetas no indican el nivel de dificultad del ejercicio, sino únicamente la necesidad de consulta de documentación externa para su resolución. Además, recordad que las **etiquetas son informativas**, pero podréis consultar referencias externas en cualquier momento (aunque no se indique explícitamente) o puede ser que podáis hacer una actividad sin consultar ningún tipo de documentación. Por ejemplo, para resolver una actividad que sólo requiera los materiales de la asignatura, puedéis consultar referencias externas si queréis, ya sea tanto para ayudaros en la resolución como para ampliar el conocimiento!\n",
        "\n",
        "En cuanto a la consulta de documentación externa en la resolución de los ejercicios, recordad **citar siempre la bibliografía utilizada** para resolver cada actividad.\n",
        "\n",
        "---"
      ]
    },
    {
      "cell_type": "markdown",
      "metadata": {
        "id": "MQ4-JQeDFE7a"
      },
      "source": [
        "## Ejercicios para la PEC\n",
        "\n",
        "A continuación encontraréis los ejercicios que se deben completar en esta PEC y que forman parte de la evaluación de esta unidad."
      ]
    },
    {
      "cell_type": "markdown",
      "metadata": {
        "id": "3KTU1pddFE7c"
      },
      "source": [
        "### Ejercicio 1"
      ]
    },
    {
      "cell_type": "markdown",
      "metadata": {
        "id": "weEdFFBpFE7d"
      },
      "source": [
        "Hemos perdido parte del código del ejercicio, pero sabemos que se han utilizado como mínimo dos variables: `lst` y `suma`. ¿Qué valor tendría la variable suma en cada uno de los siguientes casos? Explica el código de cada apartado, teniendo en cuenta que el valor de las variables viene dado siempre por el fragmento de código siguiente:"
      ]
    },
    {
      "cell_type": "code",
      "execution_count": null,
      "metadata": {
        "colab": {
          "base_uri": "https://localhost:8080/"
        },
        "id": "X3Gg644VFE7f",
        "outputId": "5b73d7a3-dcd0-409e-a000-f0a285844b15"
      },
      "outputs": [
        {
          "output_type": "stream",
          "name": "stdout",
          "text": [
            "<class 'list'>\n",
            "True\n",
            "2\n"
          ]
        }
      ],
      "source": [
        "print(type(lst))\n",
        "print(len(lst) > 3)\n",
        "print(suma)"
      ]
    },
    {
      "cell_type": "markdown",
      "metadata": {
        "id": "Qy8_i_lxFE7j"
      },
      "source": [
        "Recuerda que siempre puedes testear tus suposiciones contruyendo las variables <code>lst</code> and <code>suma</code> que verifiquen las  condiciones iniciales del enunciado. <span style = \"font-family: Courier New; background-color: #82b74b; color: #000000; padding: 3px; \">NM</span> **(2 puntos)**\n",
        "\n",
        "**NOTA**: En el siguiente enlace encontraréis infromación adicional para poder interpretar las instrucciones `break` y `continue`: https://stackoverflow.com/questions/20893641/why-is-continue-not-working/20893653#20893653"
      ]
    },
    {
      "cell_type": "markdown",
      "metadata": {
        "id": "spqnQnL8FE7l"
      },
      "source": [
        "(a)\n",
        "```python\n",
        "for n in range(1, len(lst)):\n",
        "    continue\n",
        "    suma += n**3\n",
        "```\n",
        "(b)\n",
        "```python\n",
        "for val in range(len(lst) + 10):\n",
        "    suma += val\n",
        "    break\n",
        "```\n",
        "(c)\n",
        "```python\n",
        "l = len(lst)\n",
        "while((l > 3) and (suma < 50)):\n",
        "    suma += 1\n",
        "```\n",
        "(d)\n",
        "```python\n",
        "l = []\n",
        "for k in range(1, 3):\n",
        "    l.append(len(lst) < k)\n",
        "\n",
        "suma = sum(l)\n",
        "```"
      ]
    },
    {
      "cell_type": "code",
      "source": [
        "# a)\n",
        "\n",
        "#Se crea una lista de 4 elementos.\n",
        "lst = [1, 2, 3, 4]\n",
        "# Inicializamos la variable \"suma\" a 2.\n",
        "suma = 2\n",
        "\n",
        "for n in range(1, len(lst)):\n",
        "    continue\n",
        "    suma += n**3\n",
        "\n",
        "\n",
        "print(type(lst)) # Imprime el tipo de dato de lst, que en este caso es una lista (list).\n",
        "print(len(lst) > 3) # Pregunta si la longitud de la lista \"lst\" es mayor que 3, al ser 4 retorna verdadero.\n",
        "print(suma) # Imprime el valor de suma.\n",
        "\n",
        "# Explicación:\n",
        "# La variable suma queda en 2, pues la instrucción suma+=n**3 nunca se ejecuta ya que no es\n",
        "# alcanzable porque el \"continue\" corta el flujo del programa que ejecutaría dicha sentencia.\n"
      ],
      "metadata": {
        "colab": {
          "base_uri": "https://localhost:8080/"
        },
        "id": "IVEHfoGaa2Bn",
        "outputId": "40e3de79-a0b8-42c6-cb1b-008b3d09286f"
      },
      "execution_count": 1,
      "outputs": [
        {
          "output_type": "stream",
          "name": "stdout",
          "text": [
            "<class 'list'>\n",
            "True\n",
            "2\n"
          ]
        }
      ]
    },
    {
      "cell_type": "code",
      "source": [
        "# b)\n",
        "\n",
        "#Se crea una lista de 4 elementos.\n",
        "lst = [1, 2, 3, 4]\n",
        "# Inicializamos la variable \"suma\" a 2.\n",
        "suma = 2\n",
        "\n",
        "for val in range(len(lst) + 10):\n",
        "    suma += val\n",
        "    break\n",
        "\n",
        "print(type(lst))\n",
        "print(len(lst) > 3)\n",
        "print(suma)\n",
        "\n",
        "# Explicación:\n",
        "# Comienza la ejecución, en la línea \"suma+=val\" iniciando con el valor \"0\", continua ejecutóndose\n",
        "# la primera vez la suma que sería suma += val  =>  suma = suma + val  =>  suma = 2 + 0  =>  suma = 2\n",
        "# luego encuentra un \"break\", rompiéndose el flujo del bucle y dando éste por terminado, aún cuando la condición\n",
        "# de límite superior no se haya satisfecho. Esto deja la variable suma con el valor de 2.\n"
      ],
      "metadata": {
        "colab": {
          "base_uri": "https://localhost:8080/"
        },
        "id": "T22hlogia1yQ",
        "outputId": "dcac0ede-2d60-4934-aa00-fc7ae0e31d92"
      },
      "execution_count": 2,
      "outputs": [
        {
          "output_type": "stream",
          "name": "stdout",
          "text": [
            "<class 'list'>\n",
            "True\n",
            "2\n"
          ]
        }
      ]
    },
    {
      "cell_type": "code",
      "source": [
        "# c)\n",
        "#Se crea una lista de 4 elementos.\n",
        "lst = [1, 2, 3, 4]\n",
        "# Inicializamos la variable \"suma\" a 2.\n",
        "suma = 2\n",
        "l = len(lst)\n",
        "while((l > 3) and (suma < 50)):\n",
        "    suma += 1\n",
        "\n",
        "print(type(lst))\n",
        "print(len(lst) > 3)\n",
        "print(suma)\n",
        "\n",
        "# En este caso, comenzamos al igual que en los apartados a) y b), se inicia la variable suma en 2\n",
        "# y la lista (lst) con los valores [1,2,3,4].\n",
        "# En este ejercicio se utiliza el bucle con while, en donde se inicia con la pregunta \"si l es mayor 3\", en este caso es 4,\n",
        "# y que \"si suma es menor que 50\", se asignó de entrada el valor de suma 2. Al haber un \"and\" lógico y al cumplirse las dos condiciones\n",
        "# entra en el bucle y añadiendo cada vez 1 a la variable \"suma\", hasta que \"suma\" alcance el valor de 50, y la próxima vez ya\n",
        "# NO se cumplirá la condición de \"suma menor que 50\", por lo que el bucle terminará su ejecución y realizará la impresión\n",
        "# de las variables, que en este apartado solo cambiará el valor de suma=50.\n"
      ],
      "metadata": {
        "colab": {
          "base_uri": "https://localhost:8080/"
        },
        "id": "7VzbllZ4a1gw",
        "outputId": "dc4dc462-dcb0-4c9f-c9c1-ddcaa524cc41"
      },
      "execution_count": 3,
      "outputs": [
        {
          "output_type": "stream",
          "name": "stdout",
          "text": [
            "<class 'list'>\n",
            "True\n",
            "50\n"
          ]
        }
      ]
    },
    {
      "cell_type": "code",
      "execution_count": 4,
      "metadata": {
        "colab": {
          "base_uri": "https://localhost:8080/"
        },
        "id": "VCZ5-w7aFE7l",
        "outputId": "ba39a054-4301-474e-d7de-0ad7cb9102d5"
      },
      "outputs": [
        {
          "output_type": "stream",
          "name": "stdout",
          "text": [
            "<class 'list'>\n",
            "True\n",
            "0\n"
          ]
        }
      ],
      "source": [
        "# d)\n",
        "#Se crea una lista de 4 elementos.\n",
        "lst = [1, 2, 3, 4]\n",
        "# Inicializamos la variable \"suma\" a 2.\n",
        "suma = 2\n",
        "\n",
        "l = []\n",
        "\n",
        "for k in range(1, 3):\n",
        "    l.append(len(lst) < k)\n",
        "suma = sum(l)\n",
        "\n",
        "print(type(lst))\n",
        "print(len(lst) > 3)\n",
        "print(suma)\n",
        "\n",
        "# Volvemos a asignar los valores acostumbrados a las variables lst y suma igual que en los apartados anteriores.\n",
        "# Además se crea una lista vacía y se entra en un bucle en donde la variable de iteración será la k, en un\n",
        "# rango del 1 al 3, entrando en dicho bucle 2 veces y obteniendo en todas las iteraciones un valor de Falso\n",
        "# ya que se van agregando items booleanos que nacen de la pregunta \"len(lst)<k\", por tanto tendrá un valor de 0 y\n",
        "# se irá haciendo un append a la lista \"l\" en cada iteración.\n",
        "# Finalmente suma sera igual al sumatirio de todos los items de la lista \"l\", que para este caso serán False o 0,\n",
        "# dando el resultado de suma el valor de 0, imprimimos los resultados y nos quedaría que suma=0 y los resultados\n",
        "# del tipo de datos de lst que sería list y un True, por la condición \"len(lst) > 3\".\n"
      ]
    },
    {
      "cell_type": "markdown",
      "metadata": {
        "id": "ord-PlECFE7m"
      },
      "source": [
        "## Ejercicio 2"
      ]
    },
    {
      "cell_type": "markdown",
      "metadata": {
        "id": "EoCrfJRmFE7n"
      },
      "source": [
        "Escribe un programa para construir el siguiente patrón. Para realizar el ejercicio tienes que ayudarte de estructuras de control anidadas. <span style = \"font-family: Courier New; background-color: #82b74b; color: #000000; padding: 3px; \">NM</span>**(1.5 puntos)**"
      ]
    },
    {
      "cell_type": "code",
      "execution_count": 5,
      "metadata": {
        "colab": {
          "base_uri": "https://localhost:8080/"
        },
        "id": "pq7hXSngFE7o",
        "outputId": "d4b45e35-24f2-452b-e648-f149c5de408a"
      },
      "outputs": [
        {
          "output_type": "stream",
          "name": "stdout",
          "text": [
            "Mounted at /content/drive\n",
            "/content/drive/MyDrive/Colab_Notebooks/prog_datasci_3\n"
          ]
        }
      ],
      "source": [
        "from google.colab import drive\n",
        "drive.mount('/content/drive')\n",
        "%cd /content/drive/MyDrive/Colab_Notebooks/prog_datasci_3"
      ]
    },
    {
      "cell_type": "code",
      "execution_count": 6,
      "metadata": {
        "colab": {
          "base_uri": "https://localhost:8080/",
          "height": 379
        },
        "id": "DbxRdu3nFE7p",
        "outputId": "77b8d514-514c-4154-c6eb-b288d8431946"
      },
      "outputs": [
        {
          "output_type": "execute_result",
          "data": {
            "image/png": "[encoded data removed]",
            "text/plain": [
              "<IPython.core.display.Image object>"
            ]
          },
          "metadata": {},
          "execution_count": 6
        }
      ],
      "source": [
        "from IPython import display\n",
        "\n",
        "display.Image(\"img/pattern.png\")"
      ]
    },
    {
      "cell_type": "code",
      "execution_count": 7,
      "metadata": {
        "colab": {
          "base_uri": "https://localhost:8080/"
        },
        "id": "Fgjq9DdMFE7q",
        "outputId": "a0ffb7b4-86c6-462b-d9f1-b0faa17f7dc7"
      },
      "outputs": [
        {
          "output_type": "stream",
          "name": "stdout",
          "text": [
            "% \n",
            "% * \n",
            "% * % \n",
            "% * % * \n",
            "% * % * % \n",
            "% * % * \n",
            "% * % \n",
            "% * \n",
            "% \n"
          ]
        }
      ],
      "source": [
        "\n",
        "\n",
        "\n",
        "def patron(n):\n",
        "  # Calcular la cantidad de caracteres \"%\"\" y \"*\" según la fila.\n",
        "  for i in range(n):\n",
        "    if i < n/2:\n",
        "      numero_caracteres = i + 1 # Si i es < n/2, se imprimen tantos carácteres como el número de la fila.\n",
        "    else:\n",
        "      numero_caracteres = n - i # Si i es > n/2, se imprimen tantos carácteres como la diferencia entre n y el número de la fila.\n",
        "\n",
        "    # Imprimir los caracteres \"%\"\" y \"*\", con espacio entre carácteres.\n",
        "    for j in range(numero_caracteres):\n",
        "      if j % 2 == 0:\n",
        "        print(\"%\", end=\" \")\n",
        "      else:\n",
        "        print(\"*\", end=\" \")\n",
        "    print()\n",
        "\n",
        "# Se define el número de filas solicitado.\n",
        "n = 9\n",
        "\n",
        "# Imprimir el patrón.\n",
        "patron(n)\n",
        "\n"
      ]
    },
    {
      "cell_type": "markdown",
      "metadata": {
        "id": "oFxT7Zl2FE7q"
      },
      "source": [
        "## Ejercicio 3\n",
        "\n",
        "Escribe una función en Python que valide si la contraseña introducida por el usuario cumple con los siguientes requisitos sin utilizar ninguna librería de Python:\n",
        "   - Al menos una letra [a-z] y una letra [A-Z].\n",
        "   - Al menos uno de los siguientes símbolos [$#@].\n",
        "   - Longitud mínima de 6 caracteres y máxima de 16 caracteres.\n",
        "\n",
        "Esta función debe cumplir con los siguientes requisitos:\n",
        "\n",
        "   - El usuario debe introducir la contraseña por pantalla. **(0.5 puntos)**\n",
        "   - Si la contraseña cumple con los requisitos, debe mostrar el siguiente mensaje por pantalla: \"Valid Password\". **(0.5 puntos)**\n",
        "   - Si la contraseña no cumple con los requisitos, debe mostrar el siguiente mensaje por pantalla:\"Not valid Password\". **(0.5 puntos)**\n",
        "    \n",
        " b) Utiliza los casos de prueba detallados en la tabla siguiente para comprobar que el código funciona correctamente. **(0.5 puntos)**\n",
        "\n",
        "\n",
        "<center>\n",
        "    \n",
        "|Contraseña | Resultado |\n",
        "| :---:          | :---:    |  \n",
        "| \"kljjA$12\" | \"Valid Password\" |\n",
        "| \"1234568k@\" | \"Not a valid Password\" |\n",
        "|  \"\" | \"Not a Valid Password\" |\n",
        "\n",
        "c) Escribe la misma función para determinar si una contraseña es correcta, pero esta vez utilizando la librería [re](https://docs.python.org/3/library/re.html).\n",
        "**Ejercicio Opcional**\n",
        "\n",
        "**Total: 2 puntos** <span style = \"font-family: Courier New; background-color: #82b74b; color: #000000; padding: 3px; \">NM</span>"
      ]
    },
    {
      "cell_type": "code",
      "source": [
        "# a)\n",
        "\n",
        "def validacion_contraseña(contraseña):\n",
        "\n",
        "  # Validar si hay letras minúsculas y mayúsculas.\n",
        "  # Si no se cumple imprimir \"Not valid Password.\"\n",
        "  minuscula = False\n",
        "  mayuscula = False\n",
        "  for caracter in contraseña:\n",
        "    if caracter.isalpha():\n",
        "      if caracter.islower():\n",
        "        minuscula = True\n",
        "      elif caracter.isupper():\n",
        "        mayuscula = True\n",
        "  if not minuscula or not mayuscula:\n",
        "    print(\"Not valid Password.\")\n",
        "    return\n",
        "\n",
        "  # Validar la longitud de la contraseña.\n",
        "  # Si no se cumple imprimir \"Not valid Password.\"\n",
        "  if len(contraseña) < 6 or len(contraseña) > 16:\n",
        "    print(\"Not valid Password.\")\n",
        "    return\n",
        "\n",
        "  # Validar si hay uno de los símbolos requeridos [$,#,@].\n",
        "  # Si no se cumple imprimir \"Not valid Password.\"\n",
        "  simbolo = False\n",
        "  for caracter in contraseña:\n",
        "    if caracter in [\"$\", \"@\", \"#\"]:\n",
        "      simbolo = True\n",
        "  if not simbolo:\n",
        "    print(\"Not valid Password.\")\n",
        "    return\n",
        "\n",
        "  # Imprimir \"Valid Password.\" si se cumplen los requisitos.\n",
        "  print(\"Valid Password.\")\n",
        "\n",
        "# Pedir introducir la contraseña al usuario.\n",
        "contraseña = input(\"Introduzca su contraseña: \")\n",
        "\n",
        "# Muestra un mensaje por pantalla indicando si la contraseña es válida o no.\n",
        "validacion_contraseña(contraseña)\n"
      ],
      "metadata": {
        "colab": {
          "base_uri": "https://localhost:8080/"
        },
        "id": "U-dqc2mjZ2xO",
        "outputId": "c7d53a5e-29c9-4dbf-8cda-cecb9a40071c"
      },
      "execution_count": 8,
      "outputs": [
        {
          "output_type": "stream",
          "name": "stdout",
          "text": [
            "Introduzca su contraseña: 3\n",
            "Not valid Password.\n"
          ]
        }
      ]
    },
    {
      "cell_type": "code",
      "source": [
        "# b)\n",
        "def validacion_contraseña(contraseña):\n",
        "\n",
        "  # Validar si hay letras minúsculas y mayúsculas.\n",
        "  # Si no se cumple imprimir \"Not valid Password.\"\n",
        "  minuscula = False\n",
        "  mayuscula = False\n",
        "  for caracter in contraseña:\n",
        "    if caracter.isalpha():\n",
        "      if caracter.islower():\n",
        "        minuscula = True\n",
        "      elif caracter.isupper():\n",
        "        mayuscula = True\n",
        "  if not minuscula or not mayuscula:\n",
        "    print(\"Not valid Password.\")\n",
        "    return\n",
        "\n",
        "  # Validar la longitud de la contraseña.\n",
        "  # Si no se cumple imprimir \"Not valid Password.\"\n",
        "  if len(contraseña) < 6 or len(contraseña) > 16:\n",
        "    print(\"Not valid Password.\")\n",
        "    return\n",
        "\n",
        "  # Validar si hay uno de los símbolos requeridos [$,#,@].\n",
        "  # Si no se cumple imprimir \"Not valid Password.\"\n",
        "  simbolo = False\n",
        "  for caracter in contraseña:\n",
        "    if caracter in [\"$\", \"@\", \"#\"]:\n",
        "      simbolo = True\n",
        "  if not simbolo:\n",
        "    print(\"Not valid Password.\")\n",
        "    return\n",
        "\n",
        "  # Imprimir \"Valid Password.\" si se cumplen los requisitos.\n",
        "  print(\"Valid Password.\")\n",
        "\n",
        "\n",
        "# Probamos la primera contraseña (válida):\n",
        "contraseña = \"kljjA$12\"\n",
        "validacion_contraseña(contraseña)\n",
        "\n",
        "# Probamos la segunda contraseña de la tabla (no válida):\n",
        "contraseña = \"1234568k@\"\n",
        "validacion_contraseña(contraseña)\n",
        "\n",
        "# Probamos la tercera contraseña de la tabla (no válida):\n",
        "contraseña = \"\"\n",
        "validacion_contraseña(contraseña)\n"
      ],
      "metadata": {
        "colab": {
          "base_uri": "https://localhost:8080/"
        },
        "outputId": "47fb922b-8dfa-4642-ecc7-dec1db0337ef",
        "id": "vBmIrFofH7ND"
      },
      "execution_count": 9,
      "outputs": [
        {
          "output_type": "stream",
          "name": "stdout",
          "text": [
            "Valid Password.\n",
            "Not valid Password.\n",
            "Not valid Password.\n"
          ]
        }
      ]
    },
    {
      "cell_type": "code",
      "execution_count": 11,
      "metadata": {
        "colab": {
          "base_uri": "https://localhost:8080/"
        },
        "id": "JPXl_n3LFE7q",
        "outputId": "cfd4c373-047e-4f18-ac19-f421fcc51adc"
      },
      "outputs": [
        {
          "output_type": "stream",
          "name": "stdout",
          "text": [
            "Introduzca su contraseña: 3\n",
            "Not valid Password\n"
          ]
        }
      ],
      "source": [
        "\n",
        "# c)\n",
        "import re\n",
        "\n",
        "\n",
        "def validar_contraseña(contraseña):\n",
        "\n",
        "  # Expresión regular para validar la contraseña con los requisitos requeridos.\n",
        "  regex = r\"^(?=.*[a-z])(?=.*[A-Z])(?=.*[$#@]).{6,16}$\"\n",
        "\n",
        "  # Validar la contraseña.\n",
        "  # Si no se cumplen los requisitos imprimir \"Not valid Password.\" y si los cumple imprimir \"Valid password.\"\n",
        "  if re.match(regex, contraseña):\n",
        "    print(\"Valid Password\")\n",
        "  else:\n",
        "    print(\"Not valid Password\")\n",
        "\n",
        "# Pedir la contraseña al usuario.\n",
        "contraseña = input(\"Introduzca su contraseña: \")\n",
        "\n",
        "# Validar la contraseña.\n",
        "validar_contraseña(contraseña)\n",
        "\n"
      ]
    },
    {
      "cell_type": "markdown",
      "metadata": {
        "id": "21dU1THOFE7r"
      },
      "source": [
        "## Ejercicio 4\n",
        "\n",
        "Un alumno quiere eliminar todos los elementos duplicados de una lista. Per hacerlo, escribe un programa en Python pero no funciona.\n",
        "\n",
        "a) Comenta el código, corrige los errores y explica porqué suceden. <span style = \"font-family: Courier New; background-color: #82b74b; color: #000000; padding: 3px; \">NM</span> **(0.5 puntos)**\n",
        "\n",
        "b) Reescribe el programa utilizando *list comprehension*.<span style = \"font-family: Courier New; background-color: #82b74b; color: #000000; padding: 3px; \">NM</span> **(1 punto)**\n",
        "\n",
        "**Total: 1.5 puntos** <span style = \"font-family: Courier New; background-color: #82b74b; color: #000000; padding: 3px; \">NM</span>"
      ]
    },
    {
      "cell_type": "code",
      "execution_count": 12,
      "metadata": {
        "colab": {
          "base_uri": "https://localhost:8080/",
          "height": 211
        },
        "id": "nZtAuUapFE7r",
        "outputId": "f422ddee-6c70-4ee2-b9d0-541762609cc6"
      },
      "outputs": [
        {
          "output_type": "error",
          "ename": "NameError",
          "evalue": "name 'uniq' is not defined",
          "traceback": [
            "\u001b[0;31m---------------------------------------------------------------------------\u001b[0m",
            "\u001b[0;31mNameError\u001b[0m                                 Traceback (most recent call last)",
            "\u001b[0;32m<ipython-input-12-0d7c4dc136bb>\u001b[0m in \u001b[0;36m<cell line: 3>\u001b[0;34m()\u001b[0m\n\u001b[1;32m      3\u001b[0m \u001b[0;32mfor\u001b[0m \u001b[0mx\u001b[0m \u001b[0;32min\u001b[0m \u001b[0ma\u001b[0m\u001b[0;34m:\u001b[0m\u001b[0;34m\u001b[0m\u001b[0;34m\u001b[0m\u001b[0m\n\u001b[1;32m      4\u001b[0m \u001b[0;34m\u001b[0m\u001b[0m\n\u001b[0;32m----> 5\u001b[0;31m     \u001b[0;32mif\u001b[0m \u001b[0mx\u001b[0m \u001b[0;32mnot\u001b[0m \u001b[0;32min\u001b[0m \u001b[0muniq\u001b[0m\u001b[0;34m:\u001b[0m\u001b[0;34m\u001b[0m\u001b[0;34m\u001b[0m\u001b[0m\n\u001b[0m\u001b[1;32m      6\u001b[0m \u001b[0;34m\u001b[0m\u001b[0m\n\u001b[1;32m      7\u001b[0m         \u001b[0muniq\u001b[0m\u001b[0;34m.\u001b[0m\u001b[0madd\u001b[0m\u001b[0;34m(\u001b[0m\u001b[0mx\u001b[0m\u001b[0;34m)\u001b[0m\u001b[0;34m\u001b[0m\u001b[0;34m\u001b[0m\u001b[0m\n",
            "\u001b[0;31mNameError\u001b[0m: name 'uniq' is not defined"
          ]
        }
      ],
      "source": [
        "a = [1, 2, 3, 2, 1, 5, 6, 4, 8, 5, 4]\n",
        "\n",
        "for x in a:\n",
        "\n",
        "    if x not in uniq:\n",
        "\n",
        "        uniq.add(x)\n",
        "\n",
        "print(uniq)"
      ]
    },
    {
      "cell_type": "markdown",
      "source": [
        "a) El error consiste en que la variable uniq no está definida. La variable uniq se usa dentro del bucle for pero no se define previamente.\n",
        "\n",
        "Se define la variable uniq como un conjunto vacío usando la función set().\n",
        "Se utiliza el método add() para agregar cada elemento de la lista al conjunto uniq solo si no está presente ya.\n",
        "Se imprime el conjunto uniq que ahora contiene solo los elementos únicos de la lista original.\n",
        "\n",
        "\n"
      ],
      "metadata": {
        "id": "3olSInu7XHCg"
      }
    },
    {
      "cell_type": "code",
      "source": [
        "#a) Corrección codigo.\n",
        "\n",
        "a = [1, 2, 3, 2, 1, 5, 6, 4, 8, 5, 4]\n",
        "\n",
        "# Crear un conjunto para almacenar elementos no repetidos.\n",
        "uniq = set()\n",
        "\n",
        "# Revisar la lista de números.\n",
        "for x in a:\n",
        "    # Agregar el elemento x al conjunto solo si no está presente.\n",
        "    if x not in uniq:\n",
        "        uniq.add(x)\n",
        "\n",
        "# Imprimir el conjunto con elementos no repetidos.\n",
        "print(uniq)"
      ],
      "metadata": {
        "id": "i5zhonoQZbEw",
        "colab": {
          "base_uri": "https://localhost:8080/"
        },
        "outputId": "ded3520c-4b15-44c9-b229-6d35152a91b7"
      },
      "execution_count": 13,
      "outputs": [
        {
          "output_type": "stream",
          "name": "stdout",
          "text": [
            "{1, 2, 3, 4, 5, 6, 8}\n"
          ]
        }
      ]
    },
    {
      "cell_type": "code",
      "source": [
        "#b)\n",
        "\n",
        "a = [1, 2, 3, 2, 1, 5, 6, 4, 8, 5, 4]\n",
        "\n",
        "# Comprensión de conjuntos para crear un conjunto de elementos únicos.\n",
        "# Al no permitir los conjuntos los elementos duplicados, solo se guardarán los elementos únicos de \"a\" en \"uniq\".\n",
        "uniq = {x for x in a}\n",
        "\n",
        "print(uniq)\n"
      ],
      "metadata": {
        "colab": {
          "base_uri": "https://localhost:8080/"
        },
        "id": "NA6FKpn7326K",
        "outputId": "466982b8-c5c4-41c4-df11-31b3de2bd3c4"
      },
      "execution_count": null,
      "outputs": [
        {
          "output_type": "stream",
          "name": "stdout",
          "text": [
            "{1, 2, 3, 4, 5, 6, 8}\n"
          ]
        }
      ]
    },
    {
      "cell_type": "markdown",
      "metadata": {
        "id": "Cb-1qd1FFE7s"
      },
      "source": [
        "## Ejercicio 5\n",
        "\n",
        "Escribe una función que calcule la longitud de una lista:\n",
        "    \n",
        "a) Muestra la longitud de la lista por pantalla mostrando el siguiente mensaje:\n",
        "\n",
        "`Length of the list is:`\n",
        "\n",
        "Si la variable no es una lista, gestiona la excepción del tipo `TypeError` mostrando el siguiente mensaje:\n",
        "\n",
        "`Error: The list does not have a 'lengh' attribute`\n",
        "\n",
        "<span style = \"font-family: Courier New; background-color: #82b74b; color: #000000; padding: 3px; \">NM</span> (**0.75 puntos**)\n",
        "\n",
        "b) Utiliza los casos de prueba detallados a la tabla siguiente para comprobar que el código funciona correctamente. <span style = \"font-family: Courier New; background-color: #82b74b; color: #000000; padding: 3px; \">NM</span> (**0.25 puntos**)\n",
        "\n",
        "\n",
        "<center>\n",
        "    \n",
        "|Lista | Resultado |\n",
        "| :---:          | :---:    |  \n",
        "| [1,2,3] | \"Length of the list: 3\"|\n",
        "|  0 |  \"Error: The list does not have a 'length' attribute\"|\n",
        "\n",
        "\n",
        "\n",
        "\n",
        "**Total: 1 punto**\n",
        "\n"
      ]
    },
    {
      "cell_type": "code",
      "source": [
        "#a)\n",
        "def calcular_longitud(lst):\n",
        "    # Si lst tiene magnitud \"length\" calculará cual es.\n",
        "    try:\n",
        "        longitud = len(lst)\n",
        "        print(f\"Length of the list is: {longitud}\")\n",
        "    # Si lst no tiene magnitud \"length\" mostrará un mensaje de error.\n",
        "    except TypeError:\n",
        "        print(\"Error: The list does not have a 'length' attribute\")\n",
        "\n",
        "# Ejemplos.\n",
        "calcular_longitud([1, 2, 3, 4])\n",
        "calcular_longitud (3)\n"
      ],
      "metadata": {
        "colab": {
          "base_uri": "https://localhost:8080/"
        },
        "id": "H1G9OYkTEkdo",
        "outputId": "5ebb64a6-e35e-4e36-d85f-bb151afc3f2f"
      },
      "execution_count": 14,
      "outputs": [
        {
          "output_type": "stream",
          "name": "stdout",
          "text": [
            "Length of the list is: 4\n",
            "Error: The list does not have a 'length' attribute\n"
          ]
        }
      ]
    },
    {
      "cell_type": "code",
      "execution_count": 15,
      "metadata": {
        "colab": {
          "base_uri": "https://localhost:8080/"
        },
        "id": "1fTIFXg_FE7s",
        "outputId": "bc1303bf-d49c-45bb-9cc3-da1f8580b767"
      },
      "outputs": [
        {
          "output_type": "stream",
          "name": "stdout",
          "text": [
            "Length of the list is: 3\n",
            "Error: The list does not have a 'length' attribute\n"
          ]
        }
      ],
      "source": [
        "# b)\n",
        "def calcular_longitud(lst):\n",
        "    # Si lst tiene magnitud \"length\" calculará cual es.\n",
        "    try:\n",
        "        longitud = len(lst)\n",
        "        print(f\"Length of the list is: {longitud}\")\n",
        "    # Si lst no tiene magnitud \"length\" mostrará un mensaje de error.\n",
        "    except TypeError:\n",
        "        print(\"Error: The list does not have a 'length' attribute\")\n",
        "\n",
        "calcular_longitud([1, 2, 3])\n",
        "calcular_longitud(0)\n"
      ]
    },
    {
      "cell_type": "markdown",
      "metadata": {
        "id": "H19OIwIyFE7s"
      },
      "source": [
        "## Ejercicio 6\n",
        "\n",
        "Cargad los datos del archivo `VideoGamesSales.csv`, que puedes encontrar en la carpeta data, en forma de dataframe. Este conjunto de datos de la web [Kaggle](https://www.kaggle.com/datasets/rush4ratio/video-game-sales-with-ratings) recoje información de más de 6000 videojuegos.\n",
        "\n",
        "a) Importa el archivo `VideoGamesSales.csv`que encontrarás en la carpeta data utilizando la librería pandas.  Muestra las primeras 10 líneas del dataset y el tamaño del dataframe ( número de filas y columnas).<span style = \"font-family: Courier New; background-color: #ffcc5c; color: #000000; padding: 3px; \">EG</span> **(0.5 puntos)**\n",
        "\n",
        "**Nota**: Puedes utilizar los atributos del datatrame de [pandas](https://pandas.pydata.org/docs/reference/frame.html).\n",
        "\n",
        "b) Responde a las siguientes preguntas:\n",
        "\n",
        "-b.1 ¿Cuantos juegos únicos hay en el dataframe? <span style = \"font-family: Courier New; background-color: #ffcc5c; color: #000000; padding: 3px; \">EG</span> **(0.5 puntos)**\n",
        "\n",
        "**Nota**: Puedes utilizar la función [nunique](https://pandas.pydata.org/pandas-docs/stable/reference/api/pandas.Series.nunique.html)\n",
        "\n",
        "-b.2 ¿Cuál es el procentaje de juegos del tipo `Adventure`? Recuerda que hay juegos repetidos. Muestra el resultado con 3 decimales. <span style = \"font-family: Courier New; background-color: #f2ae72; color: #000000; padding: 3px; \">EI</span> **(1 punto)**\n",
        "   \n",
        "**Total: 2 puntos**"
      ]
    },
    {
      "cell_type": "code",
      "execution_count": 17,
      "metadata": {
        "colab": {
          "base_uri": "https://localhost:8080/"
        },
        "outputId": "f66e8b88-8a47-4ccb-a011-3885aa2d4c63",
        "id": "R3P0MCUfLIz0"
      },
      "outputs": [
        {
          "output_type": "stream",
          "name": "stdout",
          "text": [
            "Drive already mounted at /content/drive; to attempt to forcibly remount, call drive.mount(\"/content/drive\", force_remount=True).\n",
            "/content/drive/MyDrive/Colab_Notebooks/prog_datasci_3\n",
            "                        Name Platform  Year_of_Release      Type  \\\n",
            "0                 Wii Sports      Wii           2006.0    Sports   \n",
            "1             Mario Kart Wii      Wii           2008.0    Racing   \n",
            "2          Wii Sports Resort      Wii           2009.0    Sports   \n",
            "3      New Super Mario Bros.       DS           2006.0  Platform   \n",
            "4                   Wii Play      Wii           2006.0      Misc   \n",
            "5  New Super Mario Bros. Wii      Wii           2009.0  Platform   \n",
            "6              Mario Kart DS       DS           2005.0    Racing   \n",
            "7                    Wii Fit      Wii           2007.0    Sports   \n",
            "8         Kinect Adventures!     X360           2010.0      Misc   \n",
            "9               Wii Fit Plus      Wii           2009.0    Sports   \n",
            "\n",
            "                Publisher  NA_Sales  EU_Sales  JP_Sales  Other_Sales  \\\n",
            "0                Nintendo     41.36     28.96      3.77         8.45   \n",
            "1                Nintendo     15.68     12.76      3.79         3.29   \n",
            "2                Nintendo     15.61     10.93      3.28         2.95   \n",
            "3                Nintendo     11.28      9.14      6.50         2.88   \n",
            "4                Nintendo     13.96      9.18      2.93         2.84   \n",
            "5                Nintendo     14.44      6.94      4.70         2.24   \n",
            "6                Nintendo      9.71      7.47      4.13         1.90   \n",
            "7                Nintendo      8.92      8.03      3.60         2.15   \n",
            "8  Microsoft Game Studios     15.00      4.89      0.24         1.69   \n",
            "9                Nintendo      9.01      8.49      2.53         1.77   \n",
            "\n",
            "   Global_Sales  Critic_Score  Critic_Count  User_Score  User_Count  \\\n",
            "0         82.53            76            51         8.0         322   \n",
            "1         35.52            82            73         8.3         709   \n",
            "2         32.77            80            73         8.0         192   \n",
            "3         29.80            89            65         8.5         431   \n",
            "4         28.92            58            41         6.6         129   \n",
            "5         28.32            87            80         8.4         594   \n",
            "6         23.21            91            64         8.6         464   \n",
            "7         22.70            80            63         7.7         146   \n",
            "8         21.81            61            45         6.3         106   \n",
            "9         21.79            80            33         7.4          52   \n",
            "\n",
            "             Developer Rating  \n",
            "0             Nintendo      E  \n",
            "1             Nintendo      E  \n",
            "2             Nintendo      E  \n",
            "3             Nintendo      E  \n",
            "4             Nintendo      E  \n",
            "5             Nintendo      E  \n",
            "6             Nintendo      E  \n",
            "7             Nintendo      E  \n",
            "8  Good Science Studio      E  \n",
            "9             Nintendo      E  \n",
            "El tamaño de las filas y columnas es:  (7013, 16)\n"
          ]
        }
      ],
      "source": [
        "# a)\n",
        "\n",
        "# Cargar libreria pandas.\n",
        "import pandas as pd\n",
        "\n",
        "# Conectamos con el emplazamiento del archivo csv a importar.\n",
        "from google.colab import drive\n",
        "drive.mount('/content/drive')\n",
        "%cd /content/drive/MyDrive/Colab_Notebooks/prog_datasci_3\n",
        "\n",
        "# Importar el archivo VideoGamesSales.csv.\n",
        "df = pd.read_csv(\"/content/drive/MyDrive/Colab_Notebooks/prog_datasci_3/data/VideoGamesSales.csv\")\n",
        "\n",
        "# Mostrar las 10 primeras filas del dataset\n",
        "print (df.head(10))\n",
        "\n",
        "# Mostrar tamaño del dataframe (número de filas y columnas)\n",
        "print(\"El tamaño de las filas y columnas es: \", df.shape)\n",
        "\n",
        "\n"
      ]
    },
    {
      "cell_type": "code",
      "source": [
        "# b.1)\n",
        "\n",
        "# Cargar libreria pandas.\n",
        "import pandas as pd\n",
        "\n",
        "# Conectamos con el emplazamiento del archivo csv a importar.\n",
        "from google.colab import drive\n",
        "drive.mount('/content/drive')\n",
        "%cd /content/drive/MyDrive/Colab_Notebooks/prog_datasci_3\n",
        "\n",
        "# Importar el archivo VideoGamesSales.csv.\n",
        "df = pd.read_csv(\"/content/drive/MyDrive/Colab_Notebooks/prog_datasci_3/data/VideoGamesSales.csv\")\n",
        "\n",
        "# Cuenta el número de valores únicos en una columna.\n",
        "numero_juegos_unicos = df['Name'].nunique()\n",
        "\n",
        "# Imprime el número de juegos únicos.\n",
        "print(f\"Número de juegos únicos: {numero_juegos_unicos}\")\n",
        "\n"
      ],
      "metadata": {
        "colab": {
          "base_uri": "https://localhost:8080/"
        },
        "id": "WCCM-IsM6TnX",
        "outputId": "3cb7d43c-bbfe-4f5a-9c0e-7db31d67f985"
      },
      "execution_count": 18,
      "outputs": [
        {
          "output_type": "stream",
          "name": "stdout",
          "text": [
            "Drive already mounted at /content/drive; to attempt to forcibly remount, call drive.mount(\"/content/drive\", force_remount=True).\n",
            "/content/drive/MyDrive/Colab_Notebooks/prog_datasci_3\n",
            "Número de juegos únicos: 4470\n"
          ]
        }
      ]
    },
    {
      "cell_type": "code",
      "source": [
        "#b.2)\n",
        "# Cargar libreria pandas.\n",
        "import pandas as pd\n",
        "\n",
        "# Conectamos con el emplazamiento del archivo csv a importar.\n",
        "from google.colab import drive\n",
        "drive.mount('/content/drive')\n",
        "%cd /content/drive/MyDrive/Colab_Notebooks/prog_datasci_3\n",
        "\n",
        "# Importar el archivo VideoGamesSales.csv.\n",
        "df = pd.read_csv(\"/content/drive/MyDrive/Colab_Notebooks/prog_datasci_3/data/VideoGamesSales.csv\")\n",
        "\n",
        "# Se filtran los juegos de tipo \"Adventure\" dentro de la columna \"Type\".\n",
        "juegos_adventure = df[df['Type'] == 'Adventure']\n",
        "\n",
        "# Se calcula el porcentaje.\n",
        "porcentaje_adventure = (juegos_adventure.shape[0] / df.shape[0]) * 100\n",
        "\n",
        "# Se imprime el resultado con solos 3 decimales.\n",
        "print(f\"Porcentaje de juegos Adventure: {porcentaje_adventure:.3f} %\")\n",
        "\n"
      ],
      "metadata": {
        "colab": {
          "base_uri": "https://localhost:8080/"
        },
        "id": "GYP606rs9zC0",
        "outputId": "b9a95c62-5f31-422e-fc7e-28da0f8662ed"
      },
      "execution_count": null,
      "outputs": [
        {
          "output_type": "stream",
          "name": "stdout",
          "text": [
            "Porcentaje de juegos Adventure: 3.764 %\n"
          ]
        }
      ]
    }
  ],
  "metadata": {
    "kernelspec": {
      "display_name": "Python 3",
      "language": "python",
      "name": "python3"
    },
    "language_info": {
      "codemirror_mode": {
        "name": "ipython",
        "version": 3
      },
      "file_extension": ".py",
      "mimetype": "text/x-python",
      "name": "python",
      "nbconvert_exporter": "python",
      "pygments_lexer": "ipython3",
      "version": "3.7.6"
    },
    "colab": {
      "provenance": []
    }
  },
  "nbformat": 4,
  "nbformat_minor": 0
}